{
  "nbformat": 4,
  "nbformat_minor": 0,
  "metadata": {
    "colab": {
      "provenance": [],
      "toc_visible": true
    },
    "kernelspec": {
      "name": "python3",
      "display_name": "Python 3"
    },
    "language_info": {
      "name": "python"
    }
  },
  "cells": [
    {
      "cell_type": "markdown",
      "source": [
        "# What is Machine Learning?\n",
        "\n",
        "Machine learning is the science (and art) of programming computers so they can\n",
        "learn from data.\n",
        "\n",
        "**Here is a slightly more general definition:**\n",
        "\n",
        "**Machine learning** is the field of study that gives computers the ability to learn without being explicitly programmed.\n",
        "—Arthur Samuel, 1959\n",
        "\n",
        "\n",
        "**And a more engineering-oriented one:**\n",
        "\n",
        "A computer program is said to learn from experience E with respect to some task\n",
        "T and some performance measure P, if its performance on T, as measured by P,\n",
        "improves with experience E.\n",
        "—Tom Mitchell, 1997\n"
      ],
      "metadata": {
        "id": "kFMmyTHvqTvy"
      }
    },
    {
      "cell_type": "markdown",
      "source": [
        "# Why use Machine Learning?\n",
        "\n",
        "**Machine learning is great for:**\n",
        "\n",
        "- Problems for which existing solutions require a lot of fine-tuning or long lists of rules (a machine learning model can often simplify code and perform better than the traditional approach)\n",
        "- Complex problems for which using a traditional approach yields no good solution (the best machine learning techniques can perhaps find a solution)\n",
        "- Fluctuating environments (a machine learning system can easily be retrained on\n",
        "new data, always keeping it up to date)\n",
        "- Getting insights about complex problems and large amounts of data"
      ],
      "metadata": {
        "id": "UrG5yskeq0j9"
      }
    },
    {
      "cell_type": "markdown",
      "source": [
        "# Examples of applications\n",
        "\n",
        "Let’s look at some concrete examples of machine learning tasks, along with the\n",
        "techniques that can tackle them:\n",
        "\n",
        "- Analyzing images of products on a production line to automatically classify them\n",
        "This is image classification, typically performed using convolutional neural networks (CNNs; see Chapter 14) or sometimes transformers (see Chapter 16).\n",
        "\n",
        "- Detecting tumors in brain scans\n",
        "This is semantic image segmentation, where each pixel in the image is classified\n",
        "(as we want to determine the exact location and shape of tumors), typically using CNNs or transformers.\n",
        "\n",
        "- Automatically classifying news articles\n",
        "This is natural language processing (NLP), and more specifically text classification, which can be tackled using recurrent neural networks (RNNs) and CNNs, but transformers work even better (see Chapter 16).\n",
        "\n",
        "- Automatically flagging offensive comments on discussion forums\n",
        "This is also text classification, using the same NLP tools.\n",
        "\n",
        "- Summarizing long documents automatically\n",
        "This is a branch of NLP called text summarization, again using the same tools.\n",
        "\n",
        "- Creating a chatbot or a personal assistant\n",
        "This involves many NLP components, including natural language understanding\n",
        "(NLU) and question-answering modules.\n",
        "\n",
        "- Forecasting your company’s revenue next year, based on many performance metrics\n",
        "This is a regression task (i.e., predicting values) that may be tackled using any regression model, such as a linear regression or polynomial regression model\n",
        "(see Chapter 4), a regression support vector machine (see Chapter 5), a regression random forest (see Chapter 7), or an artificial neural network (see Chapter 10). If you want to take into account sequences of past performance metrics, you may want to use RNNs, CNNs, or transformers (see Chapters 15 and 16).\n",
        "\n",
        "- Making your app react to voice commands\n",
        "This is speech recognition, which requires processing audio samples: since they\n",
        "are long and complex sequences, they are typically processed using RNNs, CNNs,\n",
        "or transformers (see Chapters 15 and 16).\n",
        "\n",
        "- Detecting credit card fraud\n",
        "This is anomaly detection, which can be tackled using isolation forests, Gaussian mixture models (see Chapter 9), or autoencoders (see Chapter 17).\n",
        "\n",
        "- Segmenting clients based on their purchases so that you can design a different marketing strategy for each segment\n",
        "This is clustering, which can be achieved using k-means, DBSCAN, and more\n",
        "(see Chapter 9).\n",
        "\n",
        "- Representing a complex, high-dimensional dataset in a clear and insightful diagram\n",
        "This is data visualization, often involving dimensionality reduction techniques\n",
        "(see Chapter 8).\n",
        "\n",
        "- Recommending a product that a client may be interested in, based on past purchases\n",
        "This is a recommender system. One approach is to feed past purchases (and\n",
        "other information about the client) to an artificial neural network (see Chapter 10), and get it to output the most likely next purchase. This neural net would typically be trained on past sequences of purchases across all clients.\n",
        "\n",
        "- Building an intelligent bot for a game\n",
        "This is often tackled using reinforcement learning (RL; see Chapter 18), which is a branch of machine learning that trains agents (such as bots) to pick the actions that will maximize their rewards over time (e.g., a bot may get a reward every time the player loses some life points), within a given environment (such as the\n",
        "game). The famous AlphaGo program that beat the world champion at the game\n",
        "of Go was built using RL.\n",
        "\n",
        "This list could go on and on, but hopefully it gives you a sense of the incredible\n",
        "breadth and complexity of the tasks that machine learning can tackle, and the types of\n",
        "techniques that you would use for each task.\n"
      ],
      "metadata": {
        "id": "fjqjIoO8rQSY"
      }
    },
    {
      "cell_type": "markdown",
      "source": [
        "# Types of Machine Learning\n",
        "\n",
        "- Supervised learning\n",
        "- Unsupervised learning\n",
        "- Semi-supervised learning\n",
        "- Self-supervised learning\n",
        "- Reinforcement learning\n",
        "\n"
      ],
      "metadata": {
        "id": "WmGe_JldsP-c"
      }
    },
    {
      "cell_type": "markdown",
      "source": [
        " # Training and running a linear model using Scikit-Learn"
      ],
      "metadata": {
        "id": "tpAhe3TpsxmG"
      }
    },
    {
      "cell_type": "markdown",
      "source": [
        "## Does money make people happier?\n",
        "suppose you want to know if money makes people happy, let's use Better Life Index dataset from the OECD’s website and World Bank stats\n",
        "about gross domestic product (GDP) per capita."
      ],
      "metadata": {
        "id": "g7D31G4cs9Lo"
      }
    },
    {
      "cell_type": "code",
      "execution_count": 1,
      "metadata": {
        "id": "pqaf8pnNp2lG"
      },
      "outputs": [],
      "source": [
        "import matplotlib.pyplot as plt\n",
        "import numpy as np\n",
        "import pandas as pd\n",
        "from sklearn.linear_model import LinearRegression"
      ]
    },
    {
      "cell_type": "code",
      "source": [
        "#downloading and read the data\n",
        "data_root = \"https://github.com/ageron/data/raw/main/\"\n",
        "lifesat = pd.read_csv(data_root + 'lifesat/lifesat.csv')"
      ],
      "metadata": {
        "id": "0xdHOE9Ttmk5"
      },
      "execution_count": 2,
      "outputs": []
    },
    {
      "cell_type": "code",
      "source": [
        "#define inputs and labels\n",
        "X = lifesat[['GDP per capita (USD)']].values\n",
        "y = lifesat[['Life satisfaction']].values"
      ],
      "metadata": {
        "id": "2Tve4B9yt071"
      },
      "execution_count": 3,
      "outputs": []
    },
    {
      "cell_type": "markdown",
      "source": [
        "The double brackets [[\"GDP per capita (USD)\"]] are used to ensure that the result is a 2D array (matrix), which is required by scikit-learn's LinearRegression model.\n",
        "<br></br>\n",
        "\n",
        "Here's why:\n",
        "<br></br>\n",
        "\n",
        "**Key Explanation:**\n",
        "\n",
        "Single vs. Double Brackets in Pandas:\n",
        "\n",
        "df[\"column\"] -> returns a 1D Series.\n",
        "\n",
        "df[[\"column\"]] -> returns a 2D DataFrame (even with just one column).\n",
        "\n",
        "<br></br>\n",
        "**Scikit-Learn Requirement:**\n",
        "\n",
        "Scikit-learn expects input features (X) to be a 2D array (shape: [n_samples, n_features]), even if there's only one feature.\n",
        "<br></br>\n",
        "\n",
        "**.values Conversion:**\n",
        "\n",
        "lifesat[[\"GDP per capita (USD)\"]].values\n",
        "\n",
        "converts the DataFrame to a 2D NumPy array (shape: [n_samples, 1]).\n",
        "<br></br>\n",
        "\n",
        "Without double brackets, lifesat[\"GDP per capita (USD)\"].values would give a 1D array (shape: [n_samples,]), which would cause an error in scikit-learn."
      ],
      "metadata": {
        "id": "PhF4t8_MuZ2r"
      }
    },
    {
      "cell_type": "code",
      "source": [
        "# visualize the data\n",
        "\n",
        "lifesat.plot(kind='scatter', grid=True, x=\"GDP per capita (USD)\", y='Life satisfaction')\n",
        "\n",
        "#plt.axis([x_min, x_max, y_min, y_max])\n",
        "plt.axis([23_500, 62_500, 4, 9])\n",
        "\n",
        "# Python understands numbers with underscores like 23_500 perfectly.\n",
        "# The underscores are ignored—they’re just there to make large numbers more readable for humans.\n",
        "# This feature was introduced in Python 3.6+.\n",
        "\n",
        "plt.show()"
      ],
      "metadata": {
        "colab": {
          "base_uri": "https://localhost:8080/",
          "height": 455
        },
        "id": "smA7q6OAu_cL",
        "outputId": "853f4517-b3f2-419b-f3bc-1d39b6795d9b"
      },
      "execution_count": 4,
      "outputs": [
        {
          "output_type": "display_data",
          "data": {
            "text/plain": [
              "<Figure size 640x480 with 1 Axes>"
            ],
            "image/png": "[encoded data removed]"
          },
          "metadata": {}
        }
      ]
    },
    {
      "cell_type": "code",
      "source": [
        "# Selecting a model\n",
        "model = LinearRegression()\n",
        "\n",
        "# Training the model\n",
        "model.fit(X, y)\n",
        "\n",
        "# Making a prediction for Cyprus\n",
        "# Cyprus' GDP per capita in 2020 is 37655.2\n",
        "\n",
        "X_test = [[37_655.2]]\n",
        "\n",
        "print(model.predict(X_test))"
      ],
      "metadata": {
        "colab": {
          "base_uri": "https://localhost:8080/"
        },
        "id": "Z7AqlMQxwGsS",
        "outputId": "a44a754b-572a-43cf-b6af-ea56ee81834f"
      },
      "execution_count": 5,
      "outputs": [
        {
          "output_type": "stream",
          "name": "stdout",
          "text": [
            "[[6.30165767]]\n"
          ]
        }
      ]
    },
    {
      "cell_type": "code",
      "source": [
        "# Making a prediction for Egypt\n",
        "# Egypt' GDP per capita in 2024 is 3,541.75\n",
        "\n",
        "X_test = [[3_541.2]]\n",
        "\n",
        "print(model.predict(X_test))"
      ],
      "metadata": {
        "colab": {
          "base_uri": "https://localhost:8080/"
        },
        "id": "wW4-71HMwiku",
        "outputId": "10079a38-8318-4ae9-aa84-22bff6e16a3d"
      },
      "execution_count": 6,
      "outputs": [
        {
          "output_type": "stream",
          "name": "stdout",
          "text": [
            "[[3.98910382]]\n"
          ]
        }
      ]
    },
    {
      "cell_type": "markdown",
      "source": [
        "Replacing the linear regression model with k-nearest neighbors\n",
        "regression in the previous code is as easy as replacing these lines:\n",
        "\n",
        "from sklearn.linear_model import LinearRegression\n",
        "\n",
        "model = LinearRegression()\n",
        "\n",
        "with these two:\n",
        "\n",
        "from sklearn.neighbors import KNeighborsRegressor\n",
        "\n",
        "model = KNeighborsRegressor(n_neighbors=3)"
      ],
      "metadata": {
        "id": "H0AvfnZkbDTZ"
      }
    },
    {
      "cell_type": "code",
      "source": [
        "from sklearn.neighbors import KNeighborsRegressor\n",
        "\n",
        "model = KNeighborsRegressor(n_neighbors=3)\n",
        "# Training the model\n",
        "model.fit(X, y)\n",
        "\n",
        "# Making a prediction for Cyprus\n",
        "# Cyprus' GDP per capita in 2020 is 37655.2\n",
        "\n",
        "X_test = [[37_655.2]]\n",
        "\n",
        "print(model.predict(X_test))"
      ],
      "metadata": {
        "id": "3o2aXhl-wvb7",
        "colab": {
          "base_uri": "https://localhost:8080/"
        },
        "outputId": "c25faa7c-a8a4-4460-f916-f41c6464eb93"
      },
      "execution_count": 7,
      "outputs": [
        {
          "output_type": "stream",
          "name": "stdout",
          "text": [
            "[[6.33333333]]\n"
          ]
        }
      ]
    },
    {
      "cell_type": "code",
      "source": [
        "# Making a prediction for Egypt\n",
        "# Egypt' GDP per capita in 2024 is 3,541.75\n",
        "\n",
        "X_test = [[3_541.2]]\n",
        "\n",
        "print(model.predict(X_test))"
      ],
      "metadata": {
        "colab": {
          "base_uri": "https://localhost:8080/"
        },
        "id": "gkQzUBRZbRGG",
        "outputId": "15d42a9a-fb84-41ba-c513-98cd48da139e"
      },
      "execution_count": 8,
      "outputs": [
        {
          "output_type": "stream",
          "name": "stdout",
          "text": [
            "[[5.56666667]]\n"
          ]
        }
      ]
    },
    {
      "cell_type": "markdown",
      "source": [
        "If all went well, your model will make good predictions. If not, you may need to\n",
        "use more attributes (employment rate, health, air pollution, etc.), get more or betterquality\n",
        "training data, or perhaps select a more powerful model (e.g., a polynomial\n",
        "regression model)."
      ],
      "metadata": {
        "id": "M_4WdNgMbvg8"
      }
    },
    {
      "cell_type": "markdown",
      "source": [
        "# Main Challenges of Machine Learning\n",
        "In short, since your main task is to select a model and train it on some data, the two\n",
        "things that can go wrong are **“bad model”** and **“bad data”**.\n",
        "\n",
        "## Bad data:\n",
        "\n",
        "- Insufficient Quantity of Training Data\n",
        "- Nonrepresentative Training Data:\n",
        "the set of countries you used earlier for training the linear model was\n",
        "not perfectly representative; it did not contain any country with a GDP per capita\n",
        "lower than 23,500 or higher than $62,500.\n",
        "By using a nonrepresentative training set, you trained a model that is unlikely to\n",
        "make accurate predictions, especially for very poor and very rich countries.\n",
        "- Poor-Quality Data: training data is full of errors, outliers, and noise\n",
        "- Irrelevant Features\n",
        "\n",
        "## Bad Model:\n",
        "- Overfitting the Training Data: the model performs well on the training data, but it does not generalize\n",
        "well.\n",
        "- Underfitting the Training Data: your\n",
        "model is too simple to learn the underlying structure of the data.\n",
        "\n",
        ">You train multiple models with various\n",
        "hyperparameters on the reduced training set (i.e., the full training set minus the\n",
        "**validation set**), and you select the model that performs best on the validation set.\n",
        "After this holdout validation process, you train the best model on the full training set\n",
        "(including the validation set), and this gives you the final model. Lastly, you evaluate\n",
        "this final model on the test set to get an estimate of the generalization error.\n",
        "\n",
        ">Both the validation set and\n",
        "the test set must be as representative as possible of the data you expect to use in\n",
        "production"
      ],
      "metadata": {
        "id": "l1gHfqa9cDRn"
      }
    },
    {
      "cell_type": "markdown",
      "source": [
        "# A cool definition of the model\n",
        "\n",
        "A model is a simplified representation of the data. The simplifications are meant to\n",
        "discard the superfluous details that are unlikely to generalize to new instances. When\n",
        "you select a particular type of model, you are implicitly making assumptions about\n",
        "the data. For example, if you choose a linear model, you are implicitly assuming that\n",
        "the data is fundamentally linear and that the distance between the instances and the\n",
        "straight line is just noise, which can safely be ignored."
      ],
      "metadata": {
        "id": "sl3-ZwKumAQz"
      }
    },
    {
      "cell_type": "markdown",
      "source": [
        "# Exercises\n",
        "\n",
        "1- How would you define machine learning?\n",
        "\n",
        ">Machine learning is the field of study that gives computers the ability to learn without being explicitly programmed.\n",
        "\n",
        "\n",
        "2- What is a labeled training set?\n",
        "\n",
        ">a training set that contains the desired solution\n",
        "\n",
        "\n",
        "3- What are the two most common supervised tasks?\n",
        "\n",
        ">Regression & classification\n",
        "\n",
        "4- Can you name four common unsupervised tasks?\n",
        "\n",
        ">clustering, visualization, dimensionality reduction, and association rule learning.\n",
        "\n",
        "5- What type of algorithm would you use to allow a robot to walk in various\n",
        "unknown terrains?\n",
        "\n",
        ">Reinforcement learning\n",
        "\n",
        "6- What type of algorithm would you use to segment your customers into multiple\n",
        "groups?\n",
        "\n",
        ">clustering\n",
        "\n",
        "7- What is an online learning system?\n",
        ">An online learning system can learn incrementally, as opposed to a batch learning system. This makes it capable of adapting rapidly to both changing data and autonomous systems, and of training on very large quantities of data.\n",
        "\n",
        "8- What is out-of-core learning?\n",
        ">Out-of-core algorithms can handle vast quantities of data that cannot fit in a computer's main memory. An out-of-core learning algorithm chops the data into mini-batches and uses online learning techniques to learn from these mini-batches.\n",
        "\n",
        "9- What type of algorithm relies on a similarity measure to make predictions?\n",
        ">An instance-based learning system learns the training data by heart; then, when given a new instance, it uses a similarity measure to find the most similar learned instances and uses them to make predictions.\n",
        "\n",
        "10- What is the difference between a model parameter and a model hyperparameter?\n",
        ">A model has one or more model parameters that determine what it will predict given a new instance (e.g., the slope of a linear model). A learning algorithm tries to find optimal values for these parameters such that the model generalizes well to new instances. A hyperparameter is a parameter of the learning algorithm itself, not of the model (e.g., the amount of regularization to apply).\n",
        "\n",
        "11- What do model-based algorithms search for? What is the most common strategy\n",
        "they use to succeed? How do they make predictions?\n",
        ">Model-based learning algorithms search for an optimal value for the model parameters such that the model will generalize well to new instances. We usually train such systems by minimizing a cost function that measures how bad the system is at making predictions on the training data, plus a penalty for model complexity if the model is regularized. To make predictions, we feed the new instance's features into the model's prediction function, using the parameter values found by the learning algorithm.\n",
        "\n",
        "12- Can you name four of the main challenges in machine learning?\n",
        "> lack of data, poor data quality, nonrepresentative data, uninformative features, excessively simple models that underfit the training data, and excessively complex models that overfit the data.\n",
        "\n",
        "13- If your model performs great on the training data but generalizes poorly to new\n",
        "instances, what is happening? Can you name three possible solutions?\n",
        "> Overfitting the training data. Possible solutions to overfitting are getting more data, simplifying the model (selecting a simpler algorithm, reducing the number of parameters or features used, or regularizing the model), or reducing the noise in the training data.\n",
        "\n",
        "14- What is a test set, and why would you want to use it?\n",
        ">A test set is used to estimate the generalization error that a model will make on new instances, before the model is launched in production.\n",
        "\n",
        "15- What is the purpose of a validation set?\n",
        ">A validation set is used to compare models. It makes it possible to select the best model and tune the hyperparameters\n",
        "\n",
        "16- What is the train-dev set, when do you need it, and how do you use it?\n",
        ">The train-dev set is used when there is a risk of mismatch between the training data and the data used in the validation and test datasets (which should always be as close as possible to the data used once the model is in production). The train-dev set is a part of the training set that's held out (the model is not trained on it). The model is trained on the rest of the training set, and evaluated on both the train-dev set and the validation set. If the model performs well on the training set but not on the train-dev set, then the model is likely overfitting the training set. If it performs well on both the training set and the train-dev set, but not on the validation set, then there is probably a significant data mismatch between the training data and the validation + test data, and you should try to improve the training data to make it look more like the validation + test data.\n",
        "\n",
        "17- What can go wrong if you tune hyperparameters using the test set?\n",
        ">If you tune hyperparameters using the test set, you risk overfitting the test set, and the generalization error you measure will be optimistic (you may launch a model that performs worse than you expect)."
      ],
      "metadata": {
        "id": "uKpio261mpSB"
      }
    },
    {
      "cell_type": "code",
      "source": [],
      "metadata": {
        "id": "rvq586EsbTSN"
      },
      "execution_count": null,
      "outputs": []
    }
  ]
}