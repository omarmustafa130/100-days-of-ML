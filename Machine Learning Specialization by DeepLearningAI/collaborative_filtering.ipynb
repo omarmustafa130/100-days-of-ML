{
  "nbformat": 4,
  "nbformat_minor": 0,
  "metadata": {
    "colab": {
      "provenance": []
    },
    "kernelspec": {
      "name": "python3",
      "display_name": "Python 3"
    },
    "language_info": {
      "name": "python"
    }
  },
  "cells": [
    {
      "cell_type": "markdown",
      "source": [
        "# **TensorFlow Implementation of Collaborative Filtering: A Detailed Explanation with Examples**\n",
        "Collaborative Filtering (CF) is a popular recommendation system technique that predicts user preferences based on their past interactions and the interactions of similar users.\n",
        "\n",
        "In this tutorial, we will implement a Matrix Factorization-based Collaborative Filtering model using TensorFlow.**bold text**"
      ],
      "metadata": {
        "id": "9qiY62yQ4gzE"
      }
    },
    {
      "cell_type": "markdown",
      "source": [
        "## Step 1: Load Required Libraries\n"
      ],
      "metadata": {
        "id": "gcQb4PvY4vEv"
      }
    },
    {
      "cell_type": "code",
      "source": [
        "import numpy as np\n",
        "import pandas as pd\n",
        "import tensorflow as tf"
      ],
      "metadata": {
        "id": "ILAauCTW4w8Z"
      },
      "execution_count": 27,
      "outputs": []
    },
    {
      "cell_type": "markdown",
      "source": [
        "• numpy → Used for numerical computations.\n",
        "\n",
        "• pandas → Helps in handling datasets.\n",
        "\n",
        "• tensorflow → Used for building and training the recommendation model."
      ],
      "metadata": {
        "id": "NMblcP5G40S7"
      }
    },
    {
      "cell_type": "markdown",
      "source": [
        "## Step 2: Load the Data"
      ],
      "metadata": {
        "id": "oumr8BoP4krI"
      }
    },
    {
      "cell_type": "markdown",
      "source": [
        "we have a dataset of user ratings for movies in a CSV file, movie_ratings.csv."
      ],
      "metadata": {
        "id": "ahkx_hkH4_Pr"
      }
    },
    {
      "cell_type": "code",
      "source": [
        "data = pd.read_csv('Movie_Ratings_Data.csv', index_col='Movie')\n",
        "data"
      ],
      "metadata": {
        "colab": {
          "base_uri": "https://localhost:8080/",
          "height": 206
        },
        "id": "f4Lf_eR348_Y",
        "outputId": "d89ab498-0bb4-4327-f87f-d6fcc4cbfdb0"
      },
      "execution_count": 28,
      "outputs": [
        {
          "output_type": "execute_result",
          "data": {
            "text/plain": [
              "           User1  User2  User3  User4\n",
              "Movie                                \n",
              "Inception      5      4      0      3\n",
              "Titanic        3      0      5      2\n",
              "Avatar         0      3      4      5\n",
              "Joker          4      5      2      0"
            ],
            "text/html": [
              "\n",
              "  <div id=\"df-46b7c14f-1b21-46d4-a7bb-6f704963f2ad\" class=\"colab-df-container\">\n",
              "    <div>\n",
              "<style scoped>\n",
              "    .dataframe tbody tr th:only-of-type {\n",
              "        vertical-align: middle;\n",
              "    }\n",
              "\n",
              "    .dataframe tbody tr th {\n",
              "        vertical-align: top;\n",
              "    }\n",
              "\n",
              "    .dataframe thead th {\n",
              "        text-align: right;\n",
              "    }\n",
              "</style>\n",
              "<table border=\"1\" class=\"dataframe\">\n",
              "  <thead>\n",
              "    <tr style=\"text-align: right;\">\n",
              "      <th></th>\n",
              "      <th>User1</th>\n",
              "      <th>User2</th>\n",
              "      <th>User3</th>\n",
              "      <th>User4</th>\n",
              "    </tr>\n",
              "    <tr>\n",
              "      <th>Movie</th>\n",
              "      <th></th>\n",
              "      <th></th>\n",
              "      <th></th>\n",
              "      <th></th>\n",
              "    </tr>\n",
              "  </thead>\n",
              "  <tbody>\n",
              "    <tr>\n",
              "      <th>Inception</th>\n",
              "      <td>5</td>\n",
              "      <td>4</td>\n",
              "      <td>0</td>\n",
              "      <td>3</td>\n",
              "    </tr>\n",
              "    <tr>\n",
              "      <th>Titanic</th>\n",
              "      <td>3</td>\n",
              "      <td>0</td>\n",
              "      <td>5</td>\n",
              "      <td>2</td>\n",
              "    </tr>\n",
              "    <tr>\n",
              "      <th>Avatar</th>\n",
              "      <td>0</td>\n",
              "      <td>3</td>\n",
              "      <td>4</td>\n",
              "      <td>5</td>\n",
              "    </tr>\n",
              "    <tr>\n",
              "      <th>Joker</th>\n",
              "      <td>4</td>\n",
              "      <td>5</td>\n",
              "      <td>2</td>\n",
              "      <td>0</td>\n",
              "    </tr>\n",
              "  </tbody>\n",
              "</table>\n",
              "</div>\n",
              "    <div class=\"colab-df-buttons\">\n",
              "\n",
              "  <div class=\"colab-df-container\">\n",
              "    <button class=\"colab-df-convert\" onclick=\"convertToInteractive('df-46b7c14f-1b21-46d4-a7bb-6f704963f2ad')\"\n",
              "            title=\"Convert this dataframe to an interactive table.\"\n",
              "            style=\"display:none;\">\n",
              "\n",
              "  <svg xmlns=\"http://www.w3.org/2000/svg\" height=\"24px\" viewBox=\"0 -960 960 960\">\n",
              "    <path d=\"M120-120v-720h720v720H120Zm60-500h600v-160H180v160Zm220 220h160v-160H400v160Zm0 220h160v-160H400v160ZM180-400h160v-160H180v160Zm440 0h160v-160H620v160ZM180-180h160v-160H180v160Zm440 0h160v-160H620v160Z\"/>\n",
              "  </svg>\n",
              "    </button>\n",
              "\n",
              "  <style>\n",
              "    .colab-df-container {\n",
              "      display:flex;\n",
              "      gap: 12px;\n",
              "    }\n",
              "\n",
              "    .colab-df-convert {\n",
              "      background-color: #E8F0FE;\n",
              "      border: none;\n",
              "      border-radius: 50%;\n",
              "      cursor: pointer;\n",
              "      display: none;\n",
              "      fill: #1967D2;\n",
              "      height: 32px;\n",
              "      padding: 0 0 0 0;\n",
              "      width: 32px;\n",
              "    }\n",
              "\n",
              "    .colab-df-convert:hover {\n",
              "      background-color: #E2EBFA;\n",
              "      box-shadow: 0px 1px 2px rgba(60, 64, 67, 0.3), 0px 1px 3px 1px rgba(60, 64, 67, 0.15);\n",
              "      fill: #174EA6;\n",
              "    }\n",
              "\n",
              "    .colab-df-buttons div {\n",
              "      margin-bottom: 4px;\n",
              "    }\n",
              "\n",
              "    [theme=dark] .colab-df-convert {\n",
              "      background-color: #3B4455;\n",
              "      fill: #D2E3FC;\n",
              "    }\n",
              "\n",
              "    [theme=dark] .colab-df-convert:hover {\n",
              "      background-color: #434B5C;\n",
              "      box-shadow: 0px 1px 3px 1px rgba(0, 0, 0, 0.15);\n",
              "      filter: drop-shadow(0px 1px 2px rgba(0, 0, 0, 0.3));\n",
              "      fill: #FFFFFF;\n",
              "    }\n",
              "  </style>\n",
              "\n",
              "    <script>\n",
              "      const buttonEl =\n",
              "        document.querySelector('#df-46b7c14f-1b21-46d4-a7bb-6f704963f2ad button.colab-df-convert');\n",
              "      buttonEl.style.display =\n",
              "        google.colab.kernel.accessAllowed ? 'block' : 'none';\n",
              "\n",
              "      async function convertToInteractive(key) {\n",
              "        const element = document.querySelector('#df-46b7c14f-1b21-46d4-a7bb-6f704963f2ad');\n",
              "        const dataTable =\n",
              "          await google.colab.kernel.invokeFunction('convertToInteractive',\n",
              "                                                    [key], {});\n",
              "        if (!dataTable) return;\n",
              "\n",
              "        const docLinkHtml = 'Like what you see? Visit the ' +\n",
              "          '<a target=\"_blank\" href=https://colab.research.google.com/notebooks/data_table.ipynb>data table notebook</a>'\n",
              "          + ' to learn more about interactive tables.';\n",
              "        element.innerHTML = '';\n",
              "        dataTable['output_type'] = 'display_data';\n",
              "        await google.colab.output.renderOutput(dataTable, element);\n",
              "        const docLink = document.createElement('div');\n",
              "        docLink.innerHTML = docLinkHtml;\n",
              "        element.appendChild(docLink);\n",
              "      }\n",
              "    </script>\n",
              "  </div>\n",
              "\n",
              "\n",
              "<div id=\"df-5802cf7c-4960-48cf-9d25-8ebd85aa595d\">\n",
              "  <button class=\"colab-df-quickchart\" onclick=\"quickchart('df-5802cf7c-4960-48cf-9d25-8ebd85aa595d')\"\n",
              "            title=\"Suggest charts\"\n",
              "            style=\"display:none;\">\n",
              "\n",
              "<svg xmlns=\"http://www.w3.org/2000/svg\" height=\"24px\"viewBox=\"0 0 24 24\"\n",
              "     width=\"24px\">\n",
              "    <g>\n",
              "        <path d=\"M19 3H5c-1.1 0-2 .9-2 2v14c0 1.1.9 2 2 2h14c1.1 0 2-.9 2-2V5c0-1.1-.9-2-2-2zM9 17H7v-7h2v7zm4 0h-2V7h2v10zm4 0h-2v-4h2v4z\"/>\n",
              "    </g>\n",
              "</svg>\n",
              "  </button>\n",
              "\n",
              "<style>\n",
              "  .colab-df-quickchart {\n",
              "      --bg-color: #E8F0FE;\n",
              "      --fill-color: #1967D2;\n",
              "      --hover-bg-color: #E2EBFA;\n",
              "      --hover-fill-color: #174EA6;\n",
              "      --disabled-fill-color: #AAA;\n",
              "      --disabled-bg-color: #DDD;\n",
              "  }\n",
              "\n",
              "  [theme=dark] .colab-df-quickchart {\n",
              "      --bg-color: #3B4455;\n",
              "      --fill-color: #D2E3FC;\n",
              "      --hover-bg-color: #434B5C;\n",
              "      --hover-fill-color: #FFFFFF;\n",
              "      --disabled-bg-color: #3B4455;\n",
              "      --disabled-fill-color: #666;\n",
              "  }\n",
              "\n",
              "  .colab-df-quickchart {\n",
              "    background-color: var(--bg-color);\n",
              "    border: none;\n",
              "    border-radius: 50%;\n",
              "    cursor: pointer;\n",
              "    display: none;\n",
              "    fill: var(--fill-color);\n",
              "    height: 32px;\n",
              "    padding: 0;\n",
              "    width: 32px;\n",
              "  }\n",
              "\n",
              "  .colab-df-quickchart:hover {\n",
              "    background-color: var(--hover-bg-color);\n",
              "    box-shadow: 0 1px 2px rgba(60, 64, 67, 0.3), 0 1px 3px 1px rgba(60, 64, 67, 0.15);\n",
              "    fill: var(--button-hover-fill-color);\n",
              "  }\n",
              "\n",
              "  .colab-df-quickchart-complete:disabled,\n",
              "  .colab-df-quickchart-complete:disabled:hover {\n",
              "    background-color: var(--disabled-bg-color);\n",
              "    fill: var(--disabled-fill-color);\n",
              "    box-shadow: none;\n",
              "  }\n",
              "\n",
              "  .colab-df-spinner {\n",
              "    border: 2px solid var(--fill-color);\n",
              "    border-color: transparent;\n",
              "    border-bottom-color: var(--fill-color);\n",
              "    animation:\n",
              "      spin 1s steps(1) infinite;\n",
              "  }\n",
              "\n",
              "  @keyframes spin {\n",
              "    0% {\n",
              "      border-color: transparent;\n",
              "      border-bottom-color: var(--fill-color);\n",
              "      border-left-color: var(--fill-color);\n",
              "    }\n",
              "    20% {\n",
              "      border-color: transparent;\n",
              "      border-left-color: var(--fill-color);\n",
              "      border-top-color: var(--fill-color);\n",
              "    }\n",
              "    30% {\n",
              "      border-color: transparent;\n",
              "      border-left-color: var(--fill-color);\n",
              "      border-top-color: var(--fill-color);\n",
              "      border-right-color: var(--fill-color);\n",
              "    }\n",
              "    40% {\n",
              "      border-color: transparent;\n",
              "      border-right-color: var(--fill-color);\n",
              "      border-top-color: var(--fill-color);\n",
              "    }\n",
              "    60% {\n",
              "      border-color: transparent;\n",
              "      border-right-color: var(--fill-color);\n",
              "    }\n",
              "    80% {\n",
              "      border-color: transparent;\n",
              "      border-right-color: var(--fill-color);\n",
              "      border-bottom-color: var(--fill-color);\n",
              "    }\n",
              "    90% {\n",
              "      border-color: transparent;\n",
              "      border-bottom-color: var(--fill-color);\n",
              "    }\n",
              "  }\n",
              "</style>\n",
              "\n",
              "  <script>\n",
              "    async function quickchart(key) {\n",
              "      const quickchartButtonEl =\n",
              "        document.querySelector('#' + key + ' button');\n",
              "      quickchartButtonEl.disabled = true;  // To prevent multiple clicks.\n",
              "      quickchartButtonEl.classList.add('colab-df-spinner');\n",
              "      try {\n",
              "        const charts = await google.colab.kernel.invokeFunction(\n",
              "            'suggestCharts', [key], {});\n",
              "      } catch (error) {\n",
              "        console.error('Error during call to suggestCharts:', error);\n",
              "      }\n",
              "      quickchartButtonEl.classList.remove('colab-df-spinner');\n",
              "      quickchartButtonEl.classList.add('colab-df-quickchart-complete');\n",
              "    }\n",
              "    (() => {\n",
              "      let quickchartButtonEl =\n",
              "        document.querySelector('#df-5802cf7c-4960-48cf-9d25-8ebd85aa595d button');\n",
              "      quickchartButtonEl.style.display =\n",
              "        google.colab.kernel.accessAllowed ? 'block' : 'none';\n",
              "    })();\n",
              "  </script>\n",
              "</div>\n",
              "\n",
              "  <div id=\"id_573a48e0-28ec-4d3f-a6ab-3c5f6ccf7329\">\n",
              "    <style>\n",
              "      .colab-df-generate {\n",
              "        background-color: #E8F0FE;\n",
              "        border: none;\n",
              "        border-radius: 50%;\n",
              "        cursor: pointer;\n",
              "        display: none;\n",
              "        fill: #1967D2;\n",
              "        height: 32px;\n",
              "        padding: 0 0 0 0;\n",
              "        width: 32px;\n",
              "      }\n",
              "\n",
              "      .colab-df-generate:hover {\n",
              "        background-color: #E2EBFA;\n",
              "        box-shadow: 0px 1px 2px rgba(60, 64, 67, 0.3), 0px 1px 3px 1px rgba(60, 64, 67, 0.15);\n",
              "        fill: #174EA6;\n",
              "      }\n",
              "\n",
              "      [theme=dark] .colab-df-generate {\n",
              "        background-color: #3B4455;\n",
              "        fill: #D2E3FC;\n",
              "      }\n",
              "\n",
              "      [theme=dark] .colab-df-generate:hover {\n",
              "        background-color: #434B5C;\n",
              "        box-shadow: 0px 1px 3px 1px rgba(0, 0, 0, 0.15);\n",
              "        filter: drop-shadow(0px 1px 2px rgba(0, 0, 0, 0.3));\n",
              "        fill: #FFFFFF;\n",
              "      }\n",
              "    </style>\n",
              "    <button class=\"colab-df-generate\" onclick=\"generateWithVariable('data')\"\n",
              "            title=\"Generate code using this dataframe.\"\n",
              "            style=\"display:none;\">\n",
              "\n",
              "  <svg xmlns=\"http://www.w3.org/2000/svg\" height=\"24px\"viewBox=\"0 0 24 24\"\n",
              "       width=\"24px\">\n",
              "    <path d=\"M7,19H8.4L18.45,9,17,7.55,7,17.6ZM5,21V16.75L18.45,3.32a2,2,0,0,1,2.83,0l1.4,1.43a1.91,1.91,0,0,1,.58,1.4,1.91,1.91,0,0,1-.58,1.4L9.25,21ZM18.45,9,17,7.55Zm-12,3A5.31,5.31,0,0,0,4.9,8.1,5.31,5.31,0,0,0,1,6.5,5.31,5.31,0,0,0,4.9,4.9,5.31,5.31,0,0,0,6.5,1,5.31,5.31,0,0,0,8.1,4.9,5.31,5.31,0,0,0,12,6.5,5.46,5.46,0,0,0,6.5,12Z\"/>\n",
              "  </svg>\n",
              "    </button>\n",
              "    <script>\n",
              "      (() => {\n",
              "      const buttonEl =\n",
              "        document.querySelector('#id_573a48e0-28ec-4d3f-a6ab-3c5f6ccf7329 button.colab-df-generate');\n",
              "      buttonEl.style.display =\n",
              "        google.colab.kernel.accessAllowed ? 'block' : 'none';\n",
              "\n",
              "      buttonEl.onclick = () => {\n",
              "        google.colab.notebook.generateWithVariable('data');\n",
              "      }\n",
              "      })();\n",
              "    </script>\n",
              "  </div>\n",
              "\n",
              "    </div>\n",
              "  </div>\n"
            ],
            "application/vnd.google.colaboratory.intrinsic+json": {
              "type": "dataframe",
              "variable_name": "data",
              "summary": "{\n  \"name\": \"data\",\n  \"rows\": 4,\n  \"fields\": [\n    {\n      \"column\": \"Movie\",\n      \"properties\": {\n        \"dtype\": \"string\",\n        \"num_unique_values\": 4,\n        \"samples\": [\n          \"Titanic\",\n          \"Joker\",\n          \"Inception\"\n        ],\n        \"semantic_type\": \"\",\n        \"description\": \"\"\n      }\n    },\n    {\n      \"column\": \"User1\",\n      \"properties\": {\n        \"dtype\": \"number\",\n        \"std\": 2,\n        \"min\": 0,\n        \"max\": 5,\n        \"num_unique_values\": 4,\n        \"samples\": [\n          3,\n          4,\n          5\n        ],\n        \"semantic_type\": \"\",\n        \"description\": \"\"\n      }\n    },\n    {\n      \"column\": \"User2\",\n      \"properties\": {\n        \"dtype\": \"number\",\n        \"std\": 2,\n        \"min\": 0,\n        \"max\": 5,\n        \"num_unique_values\": 4,\n        \"samples\": [\n          0,\n          5,\n          4\n        ],\n        \"semantic_type\": \"\",\n        \"description\": \"\"\n      }\n    },\n    {\n      \"column\": \"User3\",\n      \"properties\": {\n        \"dtype\": \"number\",\n        \"std\": 2,\n        \"min\": 0,\n        \"max\": 5,\n        \"num_unique_values\": 4,\n        \"samples\": [\n          5,\n          2,\n          0\n        ],\n        \"semantic_type\": \"\",\n        \"description\": \"\"\n      }\n    },\n    {\n      \"column\": \"User4\",\n      \"properties\": {\n        \"dtype\": \"number\",\n        \"std\": 2,\n        \"min\": 0,\n        \"max\": 5,\n        \"num_unique_values\": 4,\n        \"samples\": [\n          2,\n          0,\n          3\n        ],\n        \"semantic_type\": \"\",\n        \"description\": \"\"\n      }\n    }\n  ]\n}"
            }
          },
          "metadata": {},
          "execution_count": 28
        }
      ]
    },
    {
      "cell_type": "markdown",
      "source": [
        "0 means the user hasn’t rated that movie yet.\n",
        "\n",
        "Other values represent user ratings from 1-5."
      ],
      "metadata": {
        "id": "suVmPlq_5MQX"
      }
    },
    {
      "cell_type": "markdown",
      "source": [
        "## Step 3: Initialize Required Variables"
      ],
      "metadata": {
        "id": "nofQa9sS5PoH"
      }
    },
    {
      "cell_type": "code",
      "source": [
        "n_movies, n_users = data.shape\n",
        "print('Number of movies in dataset: {}'.format(n_movies))\n",
        "print('Number of users in dataset: {}'.format(n_users))"
      ],
      "metadata": {
        "colab": {
          "base_uri": "https://localhost:8080/"
        },
        "id": "zDPo1kyK5HYQ",
        "outputId": "f0d5a26b-a50d-4093-d645-f09c90d019c1"
      },
      "execution_count": 29,
      "outputs": [
        {
          "output_type": "stream",
          "name": "stdout",
          "text": [
            "Number of movies in dataset: 4\n",
            "Number of users in dataset: 4\n"
          ]
        }
      ]
    },
    {
      "cell_type": "code",
      "source": [
        "n_features = 10  # Number of latent factors"
      ],
      "metadata": {
        "id": "H2_uy8YV5VvD"
      },
      "execution_count": 30,
      "outputs": []
    },
    {
      "cell_type": "markdown",
      "source": [
        "**What are Latent Factors?**\n",
        "Latent factors represent the hidden characteristics that influence how users rate movies. These factors are not explicitly provided in the dataset but are learned automatically during training.\n",
        "\n",
        "For example, when recommending movies, some possible latent factors could be:\n",
        "\n",
        "Action Level\n",
        "\n",
        "Romance Level\n",
        "\n",
        "Comedy Level\n",
        "\n",
        "Sci-Fi Influence\n",
        "\n",
        "Director Popularity\n",
        "\n",
        "Movie Length\n",
        "\n",
        "Star Actor Popularity\n",
        "\n",
        "Year of Release\n",
        "\n",
        "Soundtrack Quality\n",
        "\n",
        "Special Effects Quality\n"
      ],
      "metadata": {
        "id": "v6bce5X852sD"
      }
    },
    {
      "cell_type": "code",
      "source": [
        "#Convert Data to Matrix\n",
        "y = data.values\n",
        "y #ratings"
      ],
      "metadata": {
        "colab": {
          "base_uri": "https://localhost:8080/"
        },
        "id": "pli4nR6253GQ",
        "outputId": "8e41d000-1f6b-4b54-d8b1-8c05c25c14e6"
      },
      "execution_count": 31,
      "outputs": [
        {
          "output_type": "execute_result",
          "data": {
            "text/plain": [
              "array([[5, 4, 0, 3],\n",
              "       [3, 0, 5, 2],\n",
              "       [0, 3, 4, 5],\n",
              "       [4, 5, 2, 0]])"
            ]
          },
          "metadata": {},
          "execution_count": 31
        }
      ]
    },
    {
      "cell_type": "code",
      "source": [
        "R = np.where(y>0, 1, 0) # 1 if rating exists, else 0\n",
        "R"
      ],
      "metadata": {
        "colab": {
          "base_uri": "https://localhost:8080/"
        },
        "id": "z4HY2vhz6JrJ",
        "outputId": "b2522cb1-bbc4-4e9c-fb3a-5e8d5ad7b192"
      },
      "execution_count": 32,
      "outputs": [
        {
          "output_type": "execute_result",
          "data": {
            "text/plain": [
              "array([[1, 1, 0, 1],\n",
              "       [1, 0, 1, 1],\n",
              "       [0, 1, 1, 1],\n",
              "       [1, 1, 1, 0]])"
            ]
          },
          "metadata": {},
          "execution_count": 32
        }
      ]
    },
    {
      "cell_type": "code",
      "source": [
        "#Initialize Parameters\n",
        "\n",
        "tf.random.set_seed(42)\n",
        "\n",
        "W = tf.Variable(tf.random.normal((n_users, n_features), dtype=tf.float64, name='W'))\n",
        "X = tf.Variable(tf.random.normal((n_movies, n_features), dtype=tf.float64, name='X'))\n",
        "b = tf.Variable(tf.random.normal((1, n_users), dtype=tf.float64, name='b'))\n",
        "\n",
        "learning_rate = 0.01\n",
        "epochs = 100\n",
        "lambda_ = 1 #Regularization parameter\n"
      ],
      "metadata": {
        "id": "SI_urkhp6eSp"
      },
      "execution_count": 33,
      "outputs": []
    },
    {
      "cell_type": "markdown",
      "source": [
        "## Step 4: Initialize the Optimizer"
      ],
      "metadata": {
        "id": "NPAH6Ik89ZM5"
      }
    },
    {
      "cell_type": "code",
      "source": [
        "#Initialize the Optimizer\n",
        "\n",
        "optimizer = tf.optimizers.Adam(learning_rate)\n"
      ],
      "metadata": {
        "id": "g0LZ2Vc07KJy"
      },
      "execution_count": 34,
      "outputs": []
    },
    {
      "cell_type": "markdown",
      "source": [
        "## Step 5: Define the Cost Function\n"
      ],
      "metadata": {
        "id": "_PCLNcl49eiq"
      }
    },
    {
      "cell_type": "code",
      "source": [
        "#Define the Cost Function\n",
        "\n",
        "def cofi_cost_function(X, W, b, Y, R, n_users, n_movies, lambda_):\n",
        "  predictions = (tf.linalg.matmul(X, tf.transpose(W)) + b) * R #(Dot product of movie features and user preferences) + b (only for rated movies)\n",
        "\n",
        "  cost = 0.5 * tf.reduce_sum(R * tf.square(predictions - Y))\n",
        "\n",
        "  #Regularization to prevent overfitting\n",
        "\n",
        "  cost += (lambda_/2) * (tf.reduce_sum(tf.square(W)) + tf.reduce_sum(tf.square(X)))\n",
        "\n",
        "  return cost\n"
      ],
      "metadata": {
        "id": "iOMKd3pg7UUB"
      },
      "execution_count": 35,
      "outputs": []
    },
    {
      "cell_type": "markdown",
      "source": [
        "## Step 6: Normalize the Data"
      ],
      "metadata": {
        "id": "MoXNBkqb9hCU"
      }
    },
    {
      "cell_type": "code",
      "source": [
        "# Normalize the Data\n",
        "\n",
        "Y_mean = np.mean(y, axis=1) ## Shape: (n_movies,)\n",
        "Y_mean = Y_mean[:, np.newaxis]  # Reshape to (n_movies, 1)\n",
        "Y_norm = y - Y_mean  # Works because shapes align!\n"
      ],
      "metadata": {
        "id": "4fvP8LmK8ebB"
      },
      "execution_count": 36,
      "outputs": []
    },
    {
      "cell_type": "markdown",
      "source": [
        "## Step 7: Train the Model"
      ],
      "metadata": {
        "id": "tR81tRuG9jTY"
      }
    },
    {
      "cell_type": "code",
      "source": [
        "#We perform gradient descent to optimize the parameters.\n",
        "\n",
        "for epoch in range(epochs):\n",
        "  with tf.GradientTape() as tape: #GradientTape records computations for automatic differentiation.\n",
        "    cost = cofi_cost_function(X, W, b, Y_norm, R, n_users, n_movies, lambda_)\n",
        "\n",
        "  gradients = tape.gradient(cost, [W, X, b]) # tape.gradient computes gradients of W, X, and b.\n",
        "\n",
        "  optimizer.apply_gradients(zip(gradients, [W, X, b])) #optimizer.apply_gradients updates parameters.\n",
        "\n",
        "  #zip(gradients, [W, X, b]) → Creates pairs of (gradient, variable),\n",
        "  #so TensorFlow knows which gradient corresponds to which variable.\n",
        "\n",
        "  if (epoch + 1) % 10 == 0:\n",
        "    print(f'Epoch {epoch+1}, Cost: {cost.numpy():0.4f}')\n",
        "\n"
      ],
      "metadata": {
        "colab": {
          "base_uri": "https://localhost:8080/"
        },
        "id": "5dzrF2wN9M5p",
        "outputId": "1c7d500e-3ec0-4645-fe80-b7b7faf549a8"
      },
      "execution_count": 37,
      "outputs": [
        {
          "output_type": "stream",
          "name": "stdout",
          "text": [
            "Epoch 10, Cost: 77.9828\n",
            "Epoch 20, Cost: 56.3359\n",
            "Epoch 30, Cost: 42.8293\n",
            "Epoch 40, Cost: 34.2461\n",
            "Epoch 50, Cost: 28.6755\n",
            "Epoch 60, Cost: 24.9419\n",
            "Epoch 70, Cost: 22.2762\n",
            "Epoch 80, Cost: 20.2261\n",
            "Epoch 90, Cost: 18.5487\n",
            "Epoch 100, Cost: 17.1179\n"
          ]
        }
      ]
    },
    {
      "cell_type": "markdown",
      "source": [
        "## Step 8: Make Predictions\n"
      ],
      "metadata": {
        "id": "J46QixVX-e8T"
      }
    },
    {
      "cell_type": "code",
      "source": [
        "predictions = tf.linalg.matmul(X, tf.transpose(W)) + b\n",
        "predictions += Y_mean[:, np.newaxis]\n",
        "\n",
        "predictions"
      ],
      "metadata": {
        "colab": {
          "base_uri": "https://localhost:8080/"
        },
        "id": "p6LRR0r1-cFi",
        "outputId": "a2c1570e-dbd3-47a3-c303-b9f4f915f64d"
      },
      "execution_count": 38,
      "outputs": [
        {
          "output_type": "execute_result",
          "data": {
            "text/plain": [
              "<tf.Tensor: shape=(4, 4, 4), dtype=float64, numpy=\n",
              "array([[[4.52681609, 3.86264334, 2.66774073, 2.57430986],\n",
              "        [3.80706198, 4.87686772, 4.6191273 , 2.38475154],\n",
              "        [5.77457316, 3.11006093, 3.6939972 , 4.44707311],\n",
              "        [4.19552543, 5.0284681 , 2.33941438, 3.31152612]],\n",
              "\n",
              "       [[4.02681609, 3.36264334, 2.16774073, 2.07430986],\n",
              "        [3.30706198, 4.37686772, 4.1191273 , 1.88475154],\n",
              "        [5.27457316, 2.61006093, 3.1939972 , 3.94707311],\n",
              "        [3.69552543, 4.5284681 , 1.83941438, 2.81152612]],\n",
              "\n",
              "       [[4.52681609, 3.86264334, 2.66774073, 2.57430986],\n",
              "        [3.80706198, 4.87686772, 4.6191273 , 2.38475154],\n",
              "        [5.77457316, 3.11006093, 3.6939972 , 4.44707311],\n",
              "        [4.19552543, 5.0284681 , 2.33941438, 3.31152612]],\n",
              "\n",
              "       [[4.27681609, 3.61264334, 2.41774073, 2.32430986],\n",
              "        [3.55706198, 4.62686772, 4.3691273 , 2.13475154],\n",
              "        [5.52457316, 2.86006093, 3.4439972 , 4.19707311],\n",
              "        [3.94552543, 4.7784681 , 2.08941438, 3.06152612]]])>"
            ]
          },
          "metadata": {},
          "execution_count": 38
        }
      ]
    },
    {
      "cell_type": "code",
      "source": [],
      "metadata": {
        "id": "F5Atk5T7-qOB"
      },
      "execution_count": 38,
      "outputs": []
    }
  ]
}